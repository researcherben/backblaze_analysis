{
 "cells": [
  {
   "cell_type": "markdown",
   "metadata": {},
   "source": [
    "https://www.backblaze.com/b2/hard-drive-test-data.html"
   ]
  },
  {
   "cell_type": "code",
   "execution_count": 1,
   "metadata": {},
   "outputs": [
    {
     "name": "stdout",
     "output_type": "stream",
     "text": [
      "pandas 0.23.4\n"
     ]
    }
   ],
   "source": [
    "import requests\n",
    "import re\n",
    "from bs4 import BeautifulSoup\n",
    "import pandas\n",
    "print('pandas',pandas.__version__)\n",
    "import glob\n",
    "import zipfile\n",
    "import random\n",
    "import time\n",
    "import matplotlib.pyplot as plt"
   ]
  },
  {
   "cell_type": "code",
   "execution_count": 2,
   "metadata": {},
   "outputs": [],
   "source": [
    "r = requests.get(\"https://www.backblaze.com/b2/hard-drive-test-data.html\")"
   ]
  },
  {
   "cell_type": "code",
   "execution_count": 3,
   "metadata": {},
   "outputs": [],
   "source": [
    "soup = BeautifulSoup(r.content)"
   ]
  },
  {
   "cell_type": "code",
   "execution_count": 8,
   "metadata": {},
   "outputs": [],
   "source": [
    "list_of_zips=[]\n",
    "for link in soup.findAll('a', attrs={'href': re.compile(\"^https://\")}):\n",
    "    link_name = link.get('href')\n",
    "    if '.zip' in link_name:\n",
    "#        print(link_name)\n",
    "        list_of_zips.append(link_name)"
   ]
  },
  {
   "cell_type": "code",
   "execution_count": 9,
   "metadata": {},
   "outputs": [
    {
     "name": "stdout",
     "output_type": "stream",
     "text": [
      "https://f001.backblazeb2.com/file/Backblaze-Hard-Drive-Data/data_Q1_2018.zip\n",
      "https://f001.backblazeb2.com/file/Backblaze-Hard-Drive-Data/data_Q2_2018.zip\n",
      "https://f001.backblazeb2.com/file/Backblaze-Hard-Drive-Data/data_Q3_2018.zip\n",
      "https://f001.backblazeb2.com/file/Backblaze-Hard-Drive-Data/data_Q4_2018.zip\n"
     ]
    }
   ],
   "source": [
    "for link_to_zip in list_of_zips:\n",
    "    if ('data' in link_to_zip) and ('2018' in link_to_zip):\n",
    "        print(link_to_zip)"
   ]
  },
  {
   "cell_type": "code",
   "execution_count": 10,
   "metadata": {},
   "outputs": [],
   "source": [
    "def download_file(url,filename):\n",
    "    \"\"\"\n",
    "    download a file based on a URL, save to filename\n",
    "    \"\"\"\n",
    "    if not isinstance(url,str):\n",
    "        raise TypeError(\"url must be string\")\n",
    "    if not isinstance(filename,str):\n",
    "        raise TypeError(\"filename must be string\")\n",
    "        \n",
    "    r = requests.get(url, allow_redirects=True)\n",
    "    open(filename, 'wb').write(r.content)\n",
    "    return"
   ]
  },
  {
   "cell_type": "code",
   "execution_count": null,
   "metadata": {},
   "outputs": [],
   "source": [
    "start_time=time.time()\n",
    "for link_to_zip in list_of_zips:\n",
    "    if ('data' in link_to_zip) and ('2018' in link_to_zip):\n",
    "        print('starting',link_to_zip)\n",
    "        filename = link_to_zip.split('/')[-1]\n",
    "        download_file(link_to_zip,filename)\n",
    "        print('elapsed:',time.time()-start_time,'seconds')"
   ]
  },
  {
   "cell_type": "code",
   "execution_count": null,
   "metadata": {},
   "outputs": [],
   "source": []
  }
 ],
 "metadata": {
  "kernelspec": {
   "display_name": "Python 3",
   "language": "python",
   "name": "python3"
  },
  "language_info": {
   "codemirror_mode": {
    "name": "ipython",
    "version": 3
   },
   "file_extension": ".py",
   "mimetype": "text/x-python",
   "name": "python",
   "nbconvert_exporter": "python",
   "pygments_lexer": "ipython3",
   "version": "3.6.7"
  }
 },
 "nbformat": 4,
 "nbformat_minor": 2
}
