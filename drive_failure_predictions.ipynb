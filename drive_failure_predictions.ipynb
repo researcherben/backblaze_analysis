{
 "cells": [
  {
   "cell_type": "markdown",
   "metadata": {},
   "source": [
    "Expectation: random < no prediction < generic heuristic < model-specific heuristic < ML\n",
    "\n",
    "expect that failure depends on\n",
    "* age of drive (wear)\n",
    "* manufacturer, model, batch"
   ]
  },
  {
   "cell_type": "code",
   "execution_count": 6,
   "metadata": {},
   "outputs": [
    {
     "name": "stdout",
     "output_type": "stream",
     "text": [
      "pandas 0.23.4\n"
     ]
    }
   ],
   "source": [
    "import pandas\n",
    "print('pandas',pandas.__version__)\n",
    "import glob\n",
    "import pickle\n",
    "import numpy\n",
    "import datetime\n",
    "import time\n",
    "import matplotlib.pyplot as plt"
   ]
  },
  {
   "cell_type": "code",
   "execution_count": null,
   "metadata": {},
   "outputs": [],
   "source": []
  },
  {
   "cell_type": "markdown",
   "metadata": {},
   "source": [
    "# no predictions\n",
    "\n",
    "for each day, count number of drives and number of failed drives\n",
    "\n",
    "* TP=0\n",
    "* TN=97.45%\n",
    "* FP=0\n",
    "* FN=2.55%\n",
    "\n",
    "error rate = (FP+FN)/total=2.55 (lower is better)"
   ]
  },
  {
   "cell_type": "raw",
   "metadata": {},
   "source": [
    "find . | grep csv | while read fullpath; do \n",
    "    filename=`echo $fullpath | sed 's/zip_folder/_/g' | sed 's/data_//g' | sed 's/\\.csv//g' | sed 's/\\//_/g' | sed 's/\\.//g' | sed 's/^_//g'`; \n",
    "    number_of_failures=`cat $fullpath  | sed '1d' | cut -d',' -f5 | grep 1 | wc -l`; \n",
    "    number_of_drives=`cat $fullpath | sed '1d' | cut -d',' -f2 | sort | uniq | wc -l`; \n",
    "    echo $filename $number_of_failures $number_of_drives >> failures_vs_drive_count_per_day.dat; \n",
    "done"
   ]
  },
  {
   "cell_type": "code",
   "execution_count": 7,
   "metadata": {},
   "outputs": [
    {
     "data": {
      "text/plain": [
       "(2092, 4)"
      ]
     },
     "execution_count": 7,
     "metadata": {},
     "output_type": "execute_result"
    }
   ],
   "source": [
    "df_np = pandas.read_csv('data_synthesized_from_csvs/failures_vs_drive_count_per_day.dat',delimiter=' ',header=None)\n",
    "df_np.columns=['date in filename','number of failures','number of unique drives']\n",
    "df_np['date']=df_np['date in filename'].apply(lambda x: datetime.datetime.strptime(x.split('_')[-1],'%Y-%m-%d'))\n",
    "df_np.drop(['date in filename'], axis=1,inplace=True)\n",
    "df_np['ratio of failures to count per day']=df['number of failures']/df['number of unique drives']\n",
    "df_np.shape"
   ]
  },
  {
   "cell_type": "code",
   "execution_count": 8,
   "metadata": {},
   "outputs": [
    {
     "data": {
      "text/html": [
       "<div>\n",
       "<style scoped>\n",
       "    .dataframe tbody tr th:only-of-type {\n",
       "        vertical-align: middle;\n",
       "    }\n",
       "\n",
       "    .dataframe tbody tr th {\n",
       "        vertical-align: top;\n",
       "    }\n",
       "\n",
       "    .dataframe thead th {\n",
       "        text-align: right;\n",
       "    }\n",
       "</style>\n",
       "<table border=\"1\" class=\"dataframe\">\n",
       "  <thead>\n",
       "    <tr style=\"text-align: right;\">\n",
       "      <th></th>\n",
       "      <th>number of failures</th>\n",
       "      <th>number of unique drives</th>\n",
       "      <th>date</th>\n",
       "      <th>ratio of failures to count per day</th>\n",
       "    </tr>\n",
       "  </thead>\n",
       "  <tbody>\n",
       "    <tr>\n",
       "      <th>0</th>\n",
       "      <td>6</td>\n",
       "      <td>102094</td>\n",
       "      <td>2018-05-22</td>\n",
       "      <td>0.000059</td>\n",
       "    </tr>\n",
       "    <tr>\n",
       "      <th>1</th>\n",
       "      <td>3</td>\n",
       "      <td>100576</td>\n",
       "      <td>2018-06-13</td>\n",
       "      <td>0.000030</td>\n",
       "    </tr>\n",
       "    <tr>\n",
       "      <th>2</th>\n",
       "      <td>4</td>\n",
       "      <td>100064</td>\n",
       "      <td>2018-04-30</td>\n",
       "      <td>0.000040</td>\n",
       "    </tr>\n",
       "    <tr>\n",
       "      <th>3</th>\n",
       "      <td>6</td>\n",
       "      <td>100529</td>\n",
       "      <td>2018-06-14</td>\n",
       "      <td>0.000060</td>\n",
       "    </tr>\n",
       "    <tr>\n",
       "      <th>4</th>\n",
       "      <td>6</td>\n",
       "      <td>101864</td>\n",
       "      <td>2018-05-25</td>\n",
       "      <td>0.000059</td>\n",
       "    </tr>\n",
       "  </tbody>\n",
       "</table>\n",
       "</div>"
      ],
      "text/plain": [
       "   number of failures  number of unique drives       date  \\\n",
       "0                   6                   102094 2018-05-22   \n",
       "1                   3                   100576 2018-06-13   \n",
       "2                   4                   100064 2018-04-30   \n",
       "3                   6                   100529 2018-06-14   \n",
       "4                   6                   101864 2018-05-25   \n",
       "\n",
       "   ratio of failures to count per day  \n",
       "0                            0.000059  \n",
       "1                            0.000030  \n",
       "2                            0.000040  \n",
       "3                            0.000060  \n",
       "4                            0.000059  "
      ]
     },
     "execution_count": 8,
     "metadata": {},
     "output_type": "execute_result"
    }
   ],
   "source": [
    "df.head()"
   ]
  },
  {
   "cell_type": "code",
   "execution_count": 17,
   "metadata": {},
   "outputs": [
    {
     "data": {
      "text/html": [
       "<div>\n",
       "<style scoped>\n",
       "    .dataframe tbody tr th:only-of-type {\n",
       "        vertical-align: middle;\n",
       "    }\n",
       "\n",
       "    .dataframe tbody tr th {\n",
       "        vertical-align: top;\n",
       "    }\n",
       "\n",
       "    .dataframe thead th {\n",
       "        text-align: right;\n",
       "    }\n",
       "</style>\n",
       "<table border=\"1\" class=\"dataframe\">\n",
       "  <thead>\n",
       "    <tr style=\"text-align: right;\">\n",
       "      <th></th>\n",
       "      <th>number of failures</th>\n",
       "      <th>number of unique drives</th>\n",
       "      <th>date</th>\n",
       "      <th>ratio of failures to count per day</th>\n",
       "      <th>TP drive predicted to be removed is removed</th>\n",
       "      <th>TN drive expected to work continues to work</th>\n",
       "      <th>FP drive predicted to be removed is not removed</th>\n",
       "      <th>FN drive expected to work is removed</th>\n",
       "      <th>overall error rate</th>\n",
       "      <th>overall error rate in %</th>\n",
       "    </tr>\n",
       "  </thead>\n",
       "  <tbody>\n",
       "    <tr>\n",
       "      <th>0</th>\n",
       "      <td>6</td>\n",
       "      <td>102094</td>\n",
       "      <td>2018-05-22</td>\n",
       "      <td>0.000059</td>\n",
       "      <td>0</td>\n",
       "      <td>102088</td>\n",
       "      <td>0</td>\n",
       "      <td>6</td>\n",
       "      <td>0.000059</td>\n",
       "      <td>0.005877</td>\n",
       "    </tr>\n",
       "    <tr>\n",
       "      <th>1</th>\n",
       "      <td>3</td>\n",
       "      <td>100576</td>\n",
       "      <td>2018-06-13</td>\n",
       "      <td>0.000030</td>\n",
       "      <td>0</td>\n",
       "      <td>100573</td>\n",
       "      <td>0</td>\n",
       "      <td>3</td>\n",
       "      <td>0.000030</td>\n",
       "      <td>0.002983</td>\n",
       "    </tr>\n",
       "    <tr>\n",
       "      <th>2</th>\n",
       "      <td>4</td>\n",
       "      <td>100064</td>\n",
       "      <td>2018-04-30</td>\n",
       "      <td>0.000040</td>\n",
       "      <td>0</td>\n",
       "      <td>100060</td>\n",
       "      <td>0</td>\n",
       "      <td>4</td>\n",
       "      <td>0.000040</td>\n",
       "      <td>0.003997</td>\n",
       "    </tr>\n",
       "    <tr>\n",
       "      <th>3</th>\n",
       "      <td>6</td>\n",
       "      <td>100529</td>\n",
       "      <td>2018-06-14</td>\n",
       "      <td>0.000060</td>\n",
       "      <td>0</td>\n",
       "      <td>100523</td>\n",
       "      <td>0</td>\n",
       "      <td>6</td>\n",
       "      <td>0.000060</td>\n",
       "      <td>0.005968</td>\n",
       "    </tr>\n",
       "    <tr>\n",
       "      <th>4</th>\n",
       "      <td>6</td>\n",
       "      <td>101864</td>\n",
       "      <td>2018-05-25</td>\n",
       "      <td>0.000059</td>\n",
       "      <td>0</td>\n",
       "      <td>101858</td>\n",
       "      <td>0</td>\n",
       "      <td>6</td>\n",
       "      <td>0.000059</td>\n",
       "      <td>0.005890</td>\n",
       "    </tr>\n",
       "  </tbody>\n",
       "</table>\n",
       "</div>"
      ],
      "text/plain": [
       "   number of failures  number of unique drives       date  \\\n",
       "0                   6                   102094 2018-05-22   \n",
       "1                   3                   100576 2018-06-13   \n",
       "2                   4                   100064 2018-04-30   \n",
       "3                   6                   100529 2018-06-14   \n",
       "4                   6                   101864 2018-05-25   \n",
       "\n",
       "   ratio of failures to count per day  \\\n",
       "0                            0.000059   \n",
       "1                            0.000030   \n",
       "2                            0.000040   \n",
       "3                            0.000060   \n",
       "4                            0.000059   \n",
       "\n",
       "   TP drive predicted to be removed is removed  \\\n",
       "0                                            0   \n",
       "1                                            0   \n",
       "2                                            0   \n",
       "3                                            0   \n",
       "4                                            0   \n",
       "\n",
       "   TN drive expected to work continues to work  \\\n",
       "0                                       102088   \n",
       "1                                       100573   \n",
       "2                                       100060   \n",
       "3                                       100523   \n",
       "4                                       101858   \n",
       "\n",
       "   FP drive predicted to be removed is not removed  \\\n",
       "0                                                0   \n",
       "1                                                0   \n",
       "2                                                0   \n",
       "3                                                0   \n",
       "4                                                0   \n",
       "\n",
       "   FN drive expected to work is removed  overall error rate  \\\n",
       "0                                     6            0.000059   \n",
       "1                                     3            0.000030   \n",
       "2                                     4            0.000040   \n",
       "3                                     6            0.000060   \n",
       "4                                     6            0.000059   \n",
       "\n",
       "   overall error rate in %  \n",
       "0                 0.005877  \n",
       "1                 0.002983  \n",
       "2                 0.003997  \n",
       "3                 0.005968  \n",
       "4                 0.005890  "
      ]
     },
     "execution_count": 17,
     "metadata": {},
     "output_type": "execute_result"
    }
   ],
   "source": [
    "df_np['TP drive predicted to be removed is removed']=0\n",
    "df_np['TN drive expected to work continues to work']=df_np['number of unique drives']-df_np['number of failures']\n",
    "df_np['FP drive predicted to be removed is not removed']=0\n",
    "df_np['FN drive expected to work is removed']=df_np['number of failures']\n",
    "\n",
    "df_np['overall error rate in %'] = 100.0*((df_np['FP drive predicted to be removed is not removed']+df_np['FN drive expected to work is removed'])/df_np['number of unique drives'])\n",
    "\n",
    "df_np.head()"
   ]
  },
  {
   "cell_type": "code",
   "execution_count": 18,
   "metadata": {},
   "outputs": [
    {
     "data": {
      "image/png": "[encoded data removed]",
      "text/plain": [
       "<Figure size 432x288 with 1 Axes>"
      ]
     },
     "metadata": {
      "needs_background": "light"
     },
     "output_type": "display_data"
    }
   ],
   "source": [
    "plt.plot_date(x=df_np['date'],y=df_np['overall error rate in %'])\n",
    "plt.title('Make no predictions',fontsize=12)\n",
    "plt.xlabel('date',fontsize=12)\n",
    "plt.ylabel('overall error rate',fontsize=12);"
   ]
  },
  {
   "cell_type": "markdown",
   "metadata": {},
   "source": [
    "# random prediction\n",
    "\n",
    "\"in the next three days, this drive will be removed\"\n",
    "* drive could be removed tomorrow (today+1)\n",
    "* drive could be removed today+2\n",
    "* drive could be removed today+3\n",
    "\n",
    "\n",
    "for each day, get list of drives\n",
    "\n",
    "from that list, select `(random_failure_rate)*len(list_of_drives)` to be removed.\n",
    "\n",
    "* TP=0\n",
    "* TN=92.5\n",
    "* FP=4.9\n",
    "* FN=2.57\n",
    "\n",
    "overall error rate = (FP+FN)/total = 7.5\n"
   ]
  },
  {
   "cell_type": "raw",
   "metadata": {},
   "source": [
    "date; time find . | grep csv | while read full_path; do cat $full_path | sed '1d' | cut -d',' -f1-3,5; done > all_drives_no_smart.dat; date"
   ]
  },
  {
   "cell_type": "code",
   "execution_count": 19,
   "metadata": {},
   "outputs": [],
   "source": [
    "daily_failure_rate=10.0/100000.0\n",
    "\n",
    "df_rp = pandas.read_csv('data_synthesized_from_csvs/failures_vs_drive_count_per_day.dat',delimiter=' ',header=None)\n",
    "df_rp.columns=['date in filename','number of failures','number of unique drives']\n",
    "df_rp['date']=df_np['date in filename'].apply(lambda x: datetime.datetime.strptime(x.split('_')[-1],'%Y-%m-%d'))\n",
    "df_rp.drop(['date in filename'], axis=1,inplace=True)\n",
    "df_rp.shape"
   ]
  },
  {
   "cell_type": "code",
   "execution_count": null,
   "metadata": {},
   "outputs": [],
   "source": [
    "df_rp['TP drive predicted to be removed is removed']=0\n",
    "df_rp['TN drive expected to work continues to work']=df_np['number of unique drives']-df_np['number of failures']\n",
    "df_rp['FP drive predicted to be removed is not removed']=0\n",
    "df_rp['FN drive expected to work is removed']=df_np['number of failures']\n",
    "\n",
    "df_np['overall error rate in %'] = 100.0*((df_np['FP drive predicted to be removed is not removed']+df_np['FN drive expected to work is removed'])/df_np['number of unique drives'])\n",
    "\n",
    "df_np.head()"
   ]
  },
  {
   "cell_type": "markdown",
   "metadata": {},
   "source": [
    "# simple heuristic: measure exceeds threshold \n",
    "\n",
    "threshold_for_raw5=1000\n",
    "\n",
    "prediction_window_in_days=3\n",
    "\n",
    "for each drive, if raw5>1000, then predict that in the next 3 days the drive will fail\n",
    "\n",
    "tp_drive_predicted_to_be_removed_is_removed=0\n",
    "tn_drive_expected_to_work_continues_to_work=0\n",
    "fp_drive_predicted_to_be_removed_is_not_removed=0\n",
    "fn_drive_expected_to_work_is_removed=0\n",
    "\n",
    "\n",
    "* TP=0.13\n",
    "* TN=97.3\n",
    "* FP=0.039\n",
    "* FN=2.49\n",
    "\n",
    "overall error rate = 2.5\n"
   ]
  },
  {
   "cell_type": "raw",
   "metadata": {},
   "source": [
    "date; time head -n 10000000 all_drives_no_smart.log | sed '/^date,.*/d' | cut -d',' -f1 | sort | uniq ; date\n",
    "13 seconds\n",
    "\n",
    "date; time cat all_drives_no_smart.log | grep 2018-06-29 --count; date\n",
    "24 seconds\n"
   ]
  }
 ],
 "metadata": {
  "kernelspec": {
   "display_name": "Python 3",
   "language": "python",
   "name": "python3"
  },
  "language_info": {
   "codemirror_mode": {
    "name": "ipython",
    "version": 3
   },
   "file_extension": ".py",
   "mimetype": "text/x-python",
   "name": "python",
   "nbconvert_exporter": "python",
   "pygments_lexer": "ipython3",
   "version": "3.6.7"
  }
 },
 "nbformat": 4,
 "nbformat_minor": 2
}
