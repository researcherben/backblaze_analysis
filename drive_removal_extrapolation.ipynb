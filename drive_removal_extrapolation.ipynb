{
 "cells": [
  {
   "cell_type": "markdown",
   "metadata": {},
   "source": [
    "Attribution 4.0 International (CC BY 4.0)\n",
    "\n",
    "https://creativecommons.org/licenses/by/4.0/"
   ]
  },
  {
   "cell_type": "raw",
   "metadata": {},
   "source": [
    "date; find . | grep csv | while read full_path; do  \n",
    "    cat $full_path | awk -F, '$5 == \"1\" {print $0}' >> all_failures_all_smart__column_count_varies.log; done; date\n",
    "\n",
    "count the number of columns in the file by counting commas per line\n",
    "\n",
    "while read p; do echo $p | tr -cd , | wc -c; done < all_failures_all_smart__column_count_varies.log\n",
    "\n",
    "Because the columns are inconsistent, check which columns are aligned\n",
    "\n",
    "date; find . | grep csv | while read full_path; do head -n1 $full_path >> all_column_headers.log; done; date\n",
    "\n",
    "Now we can determine which columns are consistent\n",
    "\n",
    "for i in {1..130}; do echo column $i; cat all_column_headers.log | cut -d',' -f$i | sort | uniq -c; done\n",
    "\n",
    "answer: columns 1 to 31 are present in all CSVs.\n",
    "\n",
    "Reduce failure list to first 31 columns\n",
    "\n",
    "cat all_failures_all_smart__column_count_varies.log | cut -d',' -f1-31 > all_failures_smart_columns1to31.log "
   ]
  },
  {
   "cell_type": "markdown",
   "metadata": {},
   "source": [
    "Smart_9_raw is power-on hours\n",
    "\n",
    "https://en.wikipedia.org/wiki/S.M.A.R.T.#Known_ATA_S.M.A.R.T._attributes"
   ]
  },
  {
   "cell_type": "code",
   "execution_count": 1,
   "metadata": {},
   "outputs": [
    {
     "name": "stdout",
     "output_type": "stream",
     "text": [
      "pandas 0.23.4\n"
     ]
    }
   ],
   "source": [
    "import pandas\n",
    "print('pandas',pandas.__version__)\n",
    "import glob\n",
    "import pickle\n",
    "import numpy\n",
    "import time\n",
    "import random\n",
    "import matplotlib.pyplot as plt"
   ]
  },
  {
   "cell_type": "markdown",
   "metadata": {},
   "source": [
    "data from Backblaze"
   ]
  },
  {
   "cell_type": "code",
   "execution_count": 2,
   "metadata": {},
   "outputs": [],
   "source": [
    "df_header_only=pandas.read_csv('zipped_data/data_Q2_2018.zip_folder/2018-04-01.csv',nrows=3)\n",
    "#df_header_only.head()"
   ]
  },
  {
   "cell_type": "code",
   "execution_count": 3,
   "metadata": {},
   "outputs": [
    {
     "data": {
      "text/plain": [
       "(8743, 31)"
      ]
     },
     "execution_count": 3,
     "metadata": {},
     "output_type": "execute_result"
    }
   ],
   "source": [
    "df = pandas.read_csv('data_synthesized_from_csvs/all_failures_smart_columns1to31.log',header=None)\n",
    "df.columns=df_header_only.columns[0:31]\n",
    "df.shape"
   ]
  },
  {
   "cell_type": "markdown",
   "metadata": {},
   "source": [
    "Extrapolating failure rates from Backblaze has a few assumptions:\n",
    "* drive technology is heterogeneous in the BackBlaze data set\n",
    "* drive vendor/model/batch is heterogeneous in the BackBlaze data set\n",
    "* does not account for time drive exists prior to production use\n",
    "* read/write pattern is specific to BackBlaze\n",
    "* read/write throughput per year is specific to BackBlaze\n",
    "\n",
    "Given those caveats, we'll use the Backblaze failures as a sampling distribution"
   ]
  },
  {
   "cell_type": "code",
   "execution_count": 4,
   "metadata": {},
   "outputs": [
    {
     "data": {
      "image/png": "[encoded data removed]",
      "text/plain": [
       "<Figure size 432x288 with 1 Axes>"
      ]
     },
     "metadata": {
      "needs_background": "light"
     },
     "output_type": "display_data"
    }
   ],
   "source": [
    "max_hours=50000\n",
    "max_days=max_hours//24\n",
    "number_drives_failed_that_day, day_index, patches = plt.hist(df[df['smart_9_raw'] < max_hours]['smart_9_raw'].dropna(how='any')/24, \n",
    "                            bins=max_days, \n",
    "                            facecolor='blue', \n",
    "                            alpha=0.5)\n",
    "plt.xlabel('power on days',fontsize=12)\n",
    "plt.ylabel('count',fontsize=12);\n",
    "plt.title('all drives',fontsize=14);"
   ]
  },
  {
   "cell_type": "code",
   "execution_count": 5,
   "metadata": {},
   "outputs": [],
   "source": [
    "\n",
    "def create_ary(number_of_drives,lifespan_in_days):\n",
    "    ary = numpy.empty([number_of_drives,lifespan_in_days])\n",
    "    ary[:] = -1\n",
    "\n",
    "    start_time=time.time()\n",
    "    # initial lifespan\n",
    "    for drive_indx in range(number_of_drives):\n",
    "        ary[drive_indx,0]=1 # every drive exists on day 1\n",
    "        # https://docs.scipy.org/doc/numpy-1.14.0/reference/generated/numpy.random.choice.html\n",
    "        drive_lifespan_in_days = int(numpy.random.choice(day_index[:-1],p=number_drives_failed_that_day/sum(number_drives_failed_that_day)))\n",
    "#        print(drive_lifespan_in_days)\n",
    "#        print('drive lifespan:',drive_lifespan_in_days)\n",
    "        ary[drive_indx,0:drive_lifespan_in_days]=1\n",
    "#        print(ary[drive_indx,:])\n",
    "    for drive_indx in range(number_of_drives):\n",
    "        for day_indx in range(lifespan_in_days):\n",
    "            while ary[drive_indx,day_indx]<0:\n",
    "                drive_lifespan_in_days = int(numpy.random.choice(day_index[:-1],p=number_drives_failed_that_day/sum(number_drives_failed_that_day)))\n",
    "                #print(drive_lifespan_in_days)\n",
    "                #print('drive:',drive_indx)\n",
    "                #print('day indx:',day_indx)\n",
    "                #print('end = ',min([day_indx+drive_lifespan_in_days,lifespan_in_days]))\n",
    "                #print(ary[drive_indx,:])\n",
    "                ary[drive_indx,day_indx:min([day_indx+drive_lifespan_in_days,lifespan_in_days])] = ary[drive_indx,day_indx-1]+1\n",
    "                #print(ary[drive_indx,:])\n",
    "        #print(\"\\n\")\n",
    "    print('elapsed:',time.time()-start_time,'seconds')\n",
    "    return ary"
   ]
  },
  {
   "cell_type": "code",
   "execution_count": 6,
   "metadata": {},
   "outputs": [
    {
     "name": "stdout",
     "output_type": "stream",
     "text": [
      "elapsed: 4.969458818435669 seconds\n",
      "initial: 1500.0\n",
      "final sum: 8396.0\n"
     ]
    }
   ],
   "source": [
    "lifespan_in_days=365*10\n",
    "number_of_drives=1500\n",
    "\n",
    "ary = create_ary(number_of_drives,lifespan_in_days)\n",
    "\n",
    "print('initial:',sum(ary[:,0]))\n",
    "# by summing right column, we can get the cumulative number of drives\n",
    "print('final sum:',sum(ary[:,-1]))"
   ]
  },
  {
   "cell_type": "markdown",
   "metadata": {},
   "source": [
    "heatmap image shows drive replacement over time for a single simulation\n",
    "\n",
    "Time goes left-to-right: Left side is \"initial status\" and right side is \"final status.\" "
   ]
  },
  {
   "cell_type": "code",
   "execution_count": 7,
   "metadata": {},
   "outputs": [
    {
     "data": {
      "image/png": "[encoded data removed]",
      "text/plain": [
       "<Figure size 1080x576 with 1 Axes>"
      ]
     },
     "metadata": {
      "needs_background": "light"
     },
     "output_type": "display_data"
    }
   ],
   "source": [
    "plt.figure(figsize=(15,8))\n",
    "plt.imshow(ary, cmap='hot', interpolation='nearest');\n",
    "plt.xlabel('days',fontsize=14)\n",
    "plt.ylabel('drive index',fontsize=14);"
   ]
  },
  {
   "cell_type": "markdown",
   "metadata": {},
   "source": [
    "Re-run this simulation to get a distribution of outcomes"
   ]
  },
  {
   "cell_type": "code",
   "execution_count": 8,
   "metadata": {},
   "outputs": [
    {
     "name": "stdout",
     "output_type": "stream",
     "text": [
      "elapsed: 5.04577374458313 seconds\n",
      "elapsed: 5.050820589065552 seconds\n",
      "elapsed: 5.154571533203125 seconds\n",
      "elapsed: 5.261159181594849 seconds\n",
      "elapsed: 5.318852424621582 seconds\n",
      "elapsed: 5.2335264682769775 seconds\n",
      "elapsed: 5.222853183746338 seconds\n",
      "elapsed: 5.116400718688965 seconds\n",
      "elapsed: 5.156287431716919 seconds\n",
      "elapsed: 5.237210750579834 seconds\n",
      "elapsed: 5.252328634262085 seconds\n",
      "elapsed: 5.211637735366821 seconds\n",
      "elapsed: 5.237936496734619 seconds\n",
      "elapsed: 5.267507791519165 seconds\n",
      "elapsed: 5.27951717376709 seconds\n",
      "elapsed: 5.208266258239746 seconds\n",
      "elapsed: 5.252132177352905 seconds\n",
      "elapsed: 5.230208396911621 seconds\n",
      "elapsed: 5.198857069015503 seconds\n",
      "elapsed: 5.138091802597046 seconds\n",
      "elapsed: 5.146061420440674 seconds\n",
      "elapsed: 5.130908250808716 seconds\n",
      "elapsed: 5.12840461730957 seconds\n",
      "elapsed: 5.163543701171875 seconds\n",
      "elapsed: 5.162506580352783 seconds\n",
      "elapsed: 5.08320426940918 seconds\n",
      "elapsed: 5.118050813674927 seconds\n",
      "elapsed: 5.143949508666992 seconds\n",
      "elapsed: 5.119701147079468 seconds\n",
      "elapsed: 5.107584476470947 seconds\n",
      "elapsed: 5.150885820388794 seconds\n",
      "elapsed: 5.041784763336182 seconds\n",
      "elapsed: 5.116059064865112 seconds\n",
      "elapsed: 5.119296073913574 seconds\n",
      "elapsed: 5.151350259780884 seconds\n",
      "elapsed: 5.139135360717773 seconds\n",
      "elapsed: 5.0662925243377686 seconds\n",
      "elapsed: 5.104346036911011 seconds\n",
      "elapsed: 5.092221736907959 seconds\n",
      "elapsed: 5.098390102386475 seconds\n",
      "elapsed: 5.203756332397461 seconds\n",
      "elapsed: 5.3006203174591064 seconds\n",
      "elapsed: 5.233245372772217 seconds\n",
      "elapsed: 5.104794502258301 seconds\n",
      "elapsed: 5.0915868282318115 seconds\n",
      "elapsed: 5.100254774093628 seconds\n",
      "elapsed: 5.079478740692139 seconds\n",
      "elapsed: 5.089666843414307 seconds\n",
      "elapsed: 5.104024648666382 seconds\n",
      "elapsed: 5.086277484893799 seconds\n",
      "elapsed: 5.100026369094849 seconds\n",
      "elapsed: 5.084925651550293 seconds\n",
      "elapsed: 5.0372841358184814 seconds\n",
      "elapsed: 5.128356695175171 seconds\n",
      "elapsed: 5.106295824050903 seconds\n",
      "elapsed: 5.085468292236328 seconds\n",
      "elapsed: 5.137332916259766 seconds\n",
      "elapsed: 5.1073901653289795 seconds\n",
      "elapsed: 5.096286058425903 seconds\n",
      "elapsed: 5.137896299362183 seconds\n",
      "elapsed: 5.077430009841919 seconds\n",
      "elapsed: 5.101404428482056 seconds\n",
      "elapsed: 5.047858476638794 seconds\n",
      "elapsed: 5.092929840087891 seconds\n",
      "elapsed: 5.105214595794678 seconds\n",
      "elapsed: 5.071438312530518 seconds\n",
      "elapsed: 5.1497790813446045 seconds\n",
      "elapsed: 5.096721172332764 seconds\n",
      "elapsed: 5.086073637008667 seconds\n",
      "elapsed: 5.103805780410767 seconds\n",
      "elapsed: 5.103344917297363 seconds\n",
      "elapsed: 5.227600336074829 seconds\n",
      "elapsed: 5.125780344009399 seconds\n",
      "elapsed: 5.157757759094238 seconds\n",
      "elapsed: 5.122168064117432 seconds\n",
      "elapsed: 5.088284492492676 seconds\n",
      "elapsed: 5.098348379135132 seconds\n",
      "elapsed: 5.1348631381988525 seconds\n",
      "elapsed: 5.107399940490723 seconds\n",
      "elapsed: 5.116827726364136 seconds\n",
      "elapsed: 5.081140995025635 seconds\n",
      "elapsed: 5.082913875579834 seconds\n",
      "elapsed: 5.071341037750244 seconds\n",
      "elapsed: 5.078421115875244 seconds\n",
      "elapsed: 5.095585823059082 seconds\n",
      "elapsed: 5.113112926483154 seconds\n",
      "elapsed: 5.087881088256836 seconds\n",
      "elapsed: 5.113469839096069 seconds\n",
      "elapsed: 5.139415502548218 seconds\n",
      "elapsed: 5.102813482284546 seconds\n",
      "elapsed: 5.1270751953125 seconds\n",
      "elapsed: 5.078030586242676 seconds\n",
      "elapsed: 5.104695558547974 seconds\n",
      "elapsed: 5.092835187911987 seconds\n",
      "elapsed: 5.1148927211761475 seconds\n",
      "elapsed: 5.126449346542358 seconds\n",
      "elapsed: 5.089248895645142 seconds\n",
      "elapsed: 5.007911920547485 seconds\n",
      "elapsed: 5.1159257888793945 seconds\n",
      "elapsed: 5.097278833389282 seconds\n"
     ]
    }
   ],
   "source": [
    "list_of_drive_counts = []\n",
    "for indx in range(100):\n",
    "    ary = create_ary(number_of_drives,lifespan_in_days)\n",
    "    list_of_drive_counts.append(sum(ary[:,-1]))"
   ]
  },
  {
   "cell_type": "markdown",
   "metadata": {},
   "source": [
    "show the spread on number of drives"
   ]
  },
  {
   "cell_type": "code",
   "execution_count": 9,
   "metadata": {},
   "outputs": [
    {
     "data": {
      "image/png": "[encoded data removed]",
      "text/plain": [
       "<Figure size 432x288 with 1 Axes>"
      ]
     },
     "metadata": {
      "needs_background": "light"
     },
     "output_type": "display_data"
    }
   ],
   "source": [
    "plt.hist(list_of_drive_counts,bins=10)\n",
    "plt.xlabel('total drive count')\n",
    "plt.ylabel('count');"
   ]
  },
  {
   "cell_type": "code",
   "execution_count": null,
   "metadata": {},
   "outputs": [],
   "source": []
  }
 ],
 "metadata": {
  "kernelspec": {
   "display_name": "Python 3",
   "language": "python",
   "name": "python3"
  },
  "language_info": {
   "codemirror_mode": {
    "name": "ipython",
    "version": 3
   },
   "file_extension": ".py",
   "mimetype": "text/x-python",
   "name": "python",
   "nbconvert_exporter": "python",
   "pygments_lexer": "ipython3",
   "version": "3.6.7"
  }
 },
 "nbformat": 4,
 "nbformat_minor": 2
}
