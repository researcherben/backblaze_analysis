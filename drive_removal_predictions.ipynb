{
 "cells": [
  {
   "cell_type": "markdown",
   "metadata": {},
   "source": [
    "Attribution 4.0 International (CC BY 4.0)\n",
    "\n",
    "https://creativecommons.org/licenses/by/4.0/"
   ]
  },
  {
   "cell_type": "markdown",
   "metadata": {},
   "source": [
    "Expectation: random < no prediction < generic heuristic < model-specific heuristic < ML\n",
    "\n",
    "expect that failure depends on\n",
    "* age of drive (wear)\n",
    "* manufacturer, model, batch"
   ]
  },
  {
   "cell_type": "code",
   "execution_count": 1,
   "metadata": {},
   "outputs": [
    {
     "name": "stdout",
     "output_type": "stream",
     "text": [
      "pandas 0.23.4\n"
     ]
    }
   ],
   "source": [
    "import pandas\n",
    "print('pandas',pandas.__version__)\n",
    "import glob\n",
    "import pickle\n",
    "import numpy\n",
    "import datetime\n",
    "import time\n",
    "import matplotlib.pyplot as plt"
   ]
  },
  {
   "cell_type": "code",
   "execution_count": null,
   "metadata": {},
   "outputs": [],
   "source": []
  },
  {
   "cell_type": "markdown",
   "metadata": {},
   "source": [
    "# no predictions\n",
    "\n",
    "for each day, count number of drives and number of drives removed from service\n",
    "\n",
    "* TP=0\n",
    "* TN=97.45%\n",
    "* FP=0\n",
    "* FN=2.55%\n",
    "\n",
    "error rate = (FP+FN)/total=2.55 (lower is better)"
   ]
  },
  {
   "cell_type": "raw",
   "metadata": {},
   "source": [
    "find . | grep csv | while read fullpath; do \n",
    "    filename=`echo $fullpath | sed 's/zip_folder/_/g' | sed 's/data_//g' | sed 's/\\.csv//g' | sed 's/\\//_/g' | sed 's/\\.//g' | sed 's/^_//g'`; \n",
    "    number_of_failures=`cat $fullpath  | sed '1d' | cut -d',' -f5 | grep 1 | wc -l`; \n",
    "    number_of_drives=`cat $fullpath | sed '1d' | cut -d',' -f2 | sort | uniq | wc -l`; \n",
    "    echo $filename $number_of_failures $number_of_drives >> failures_vs_drive_count_per_day.dat; \n",
    "done"
   ]
  },
  {
   "cell_type": "code",
   "execution_count": 2,
   "metadata": {},
   "outputs": [
    {
     "name": "stdout",
     "output_type": "stream",
     "text": [
      "elapsed: 0.05575299263000488 seconds\n"
     ]
    },
    {
     "data": {
      "text/plain": [
       "(2092, 4)"
      ]
     },
     "execution_count": 2,
     "metadata": {},
     "output_type": "execute_result"
    }
   ],
   "source": [
    "start_time=time.time()\n",
    "df_np = pandas.read_csv('data_synthesized_from_csvs/failures_vs_drive_count_per_day.dat',delimiter=' ',header=None)\n",
    "df_np.columns=['date in filename','number of drives removed from service','number of unique drives']\n",
    "df_np['date']=df_np['date in filename'].apply(lambda x: datetime.datetime.strptime(x.split('_')[-1],'%Y-%m-%d'))\n",
    "df_np.drop(['date in filename'], axis=1,inplace=True)\n",
    "df_np['ratio of drives removed from service to count per day']=df_np['number of drives removed from service']/df_np['number of unique drives']\n",
    "print('elapsed:',time.time()-start_time,'seconds')\n",
    "df_np.shape"
   ]
  },
  {
   "cell_type": "code",
   "execution_count": 3,
   "metadata": {},
   "outputs": [
    {
     "data": {
      "text/html": [
       "<div>\n",
       "<style scoped>\n",
       "    .dataframe tbody tr th:only-of-type {\n",
       "        vertical-align: middle;\n",
       "    }\n",
       "\n",
       "    .dataframe tbody tr th {\n",
       "        vertical-align: top;\n",
       "    }\n",
       "\n",
       "    .dataframe thead th {\n",
       "        text-align: right;\n",
       "    }\n",
       "</style>\n",
       "<table border=\"1\" class=\"dataframe\">\n",
       "  <thead>\n",
       "    <tr style=\"text-align: right;\">\n",
       "      <th></th>\n",
       "      <th>number of failures</th>\n",
       "      <th>number of unique drives</th>\n",
       "      <th>date</th>\n",
       "      <th>ratio of failures to count per day</th>\n",
       "    </tr>\n",
       "  </thead>\n",
       "  <tbody>\n",
       "    <tr>\n",
       "      <th>0</th>\n",
       "      <td>6</td>\n",
       "      <td>102094</td>\n",
       "      <td>2018-05-22</td>\n",
       "      <td>0.000059</td>\n",
       "    </tr>\n",
       "    <tr>\n",
       "      <th>1</th>\n",
       "      <td>3</td>\n",
       "      <td>100576</td>\n",
       "      <td>2018-06-13</td>\n",
       "      <td>0.000030</td>\n",
       "    </tr>\n",
       "    <tr>\n",
       "      <th>2</th>\n",
       "      <td>4</td>\n",
       "      <td>100064</td>\n",
       "      <td>2018-04-30</td>\n",
       "      <td>0.000040</td>\n",
       "    </tr>\n",
       "    <tr>\n",
       "      <th>3</th>\n",
       "      <td>6</td>\n",
       "      <td>100529</td>\n",
       "      <td>2018-06-14</td>\n",
       "      <td>0.000060</td>\n",
       "    </tr>\n",
       "    <tr>\n",
       "      <th>4</th>\n",
       "      <td>6</td>\n",
       "      <td>101864</td>\n",
       "      <td>2018-05-25</td>\n",
       "      <td>0.000059</td>\n",
       "    </tr>\n",
       "  </tbody>\n",
       "</table>\n",
       "</div>"
      ],
      "text/plain": [
       "   number of failures  number of unique drives       date  \\\n",
       "0                   6                   102094 2018-05-22   \n",
       "1                   3                   100576 2018-06-13   \n",
       "2                   4                   100064 2018-04-30   \n",
       "3                   6                   100529 2018-06-14   \n",
       "4                   6                   101864 2018-05-25   \n",
       "\n",
       "   ratio of failures to count per day  \n",
       "0                            0.000059  \n",
       "1                            0.000030  \n",
       "2                            0.000040  \n",
       "3                            0.000060  \n",
       "4                            0.000059  "
      ]
     },
     "execution_count": 3,
     "metadata": {},
     "output_type": "execute_result"
    }
   ],
   "source": [
    "df_np.head()"
   ]
  },
  {
   "cell_type": "code",
   "execution_count": 4,
   "metadata": {},
   "outputs": [
    {
     "data": {
      "text/html": [
       "<div>\n",
       "<style scoped>\n",
       "    .dataframe tbody tr th:only-of-type {\n",
       "        vertical-align: middle;\n",
       "    }\n",
       "\n",
       "    .dataframe tbody tr th {\n",
       "        vertical-align: top;\n",
       "    }\n",
       "\n",
       "    .dataframe thead th {\n",
       "        text-align: right;\n",
       "    }\n",
       "</style>\n",
       "<table border=\"1\" class=\"dataframe\">\n",
       "  <thead>\n",
       "    <tr style=\"text-align: right;\">\n",
       "      <th></th>\n",
       "      <th>number of failures</th>\n",
       "      <th>number of unique drives</th>\n",
       "      <th>date</th>\n",
       "      <th>ratio of failures to count per day</th>\n",
       "      <th>TP drive predicted to be removed is removed</th>\n",
       "      <th>TN drive expected to work continues to work</th>\n",
       "      <th>FP drive predicted to be removed is not removed</th>\n",
       "      <th>FN drive expected to work is removed</th>\n",
       "      <th>overall error rate in %</th>\n",
       "    </tr>\n",
       "  </thead>\n",
       "  <tbody>\n",
       "    <tr>\n",
       "      <th>0</th>\n",
       "      <td>6</td>\n",
       "      <td>102094</td>\n",
       "      <td>2018-05-22</td>\n",
       "      <td>0.000059</td>\n",
       "      <td>0</td>\n",
       "      <td>102088</td>\n",
       "      <td>0</td>\n",
       "      <td>6</td>\n",
       "      <td>0.005877</td>\n",
       "    </tr>\n",
       "    <tr>\n",
       "      <th>1</th>\n",
       "      <td>3</td>\n",
       "      <td>100576</td>\n",
       "      <td>2018-06-13</td>\n",
       "      <td>0.000030</td>\n",
       "      <td>0</td>\n",
       "      <td>100573</td>\n",
       "      <td>0</td>\n",
       "      <td>3</td>\n",
       "      <td>0.002983</td>\n",
       "    </tr>\n",
       "    <tr>\n",
       "      <th>2</th>\n",
       "      <td>4</td>\n",
       "      <td>100064</td>\n",
       "      <td>2018-04-30</td>\n",
       "      <td>0.000040</td>\n",
       "      <td>0</td>\n",
       "      <td>100060</td>\n",
       "      <td>0</td>\n",
       "      <td>4</td>\n",
       "      <td>0.003997</td>\n",
       "    </tr>\n",
       "    <tr>\n",
       "      <th>3</th>\n",
       "      <td>6</td>\n",
       "      <td>100529</td>\n",
       "      <td>2018-06-14</td>\n",
       "      <td>0.000060</td>\n",
       "      <td>0</td>\n",
       "      <td>100523</td>\n",
       "      <td>0</td>\n",
       "      <td>6</td>\n",
       "      <td>0.005968</td>\n",
       "    </tr>\n",
       "    <tr>\n",
       "      <th>4</th>\n",
       "      <td>6</td>\n",
       "      <td>101864</td>\n",
       "      <td>2018-05-25</td>\n",
       "      <td>0.000059</td>\n",
       "      <td>0</td>\n",
       "      <td>101858</td>\n",
       "      <td>0</td>\n",
       "      <td>6</td>\n",
       "      <td>0.005890</td>\n",
       "    </tr>\n",
       "  </tbody>\n",
       "</table>\n",
       "</div>"
      ],
      "text/plain": [
       "   number of failures  number of unique drives       date  \\\n",
       "0                   6                   102094 2018-05-22   \n",
       "1                   3                   100576 2018-06-13   \n",
       "2                   4                   100064 2018-04-30   \n",
       "3                   6                   100529 2018-06-14   \n",
       "4                   6                   101864 2018-05-25   \n",
       "\n",
       "   ratio of failures to count per day  \\\n",
       "0                            0.000059   \n",
       "1                            0.000030   \n",
       "2                            0.000040   \n",
       "3                            0.000060   \n",
       "4                            0.000059   \n",
       "\n",
       "   TP drive predicted to be removed is removed  \\\n",
       "0                                            0   \n",
       "1                                            0   \n",
       "2                                            0   \n",
       "3                                            0   \n",
       "4                                            0   \n",
       "\n",
       "   TN drive expected to work continues to work  \\\n",
       "0                                       102088   \n",
       "1                                       100573   \n",
       "2                                       100060   \n",
       "3                                       100523   \n",
       "4                                       101858   \n",
       "\n",
       "   FP drive predicted to be removed is not removed  \\\n",
       "0                                                0   \n",
       "1                                                0   \n",
       "2                                                0   \n",
       "3                                                0   \n",
       "4                                                0   \n",
       "\n",
       "   FN drive expected to work is removed  overall error rate in %  \n",
       "0                                     6                 0.005877  \n",
       "1                                     3                 0.002983  \n",
       "2                                     4                 0.003997  \n",
       "3                                     6                 0.005968  \n",
       "4                                     6                 0.005890  "
      ]
     },
     "execution_count": 4,
     "metadata": {},
     "output_type": "execute_result"
    }
   ],
   "source": [
    "df_np['TP drive predicted to be removed is removed']=0\n",
    "df_np['TN drive expected to work continues to work']=df_np['number of unique drives']-df_np['number of failures']\n",
    "df_np['FP drive predicted to be removed is not removed']=0\n",
    "df_np['FN drive expected to work is removed']=df_np['number of failures']\n",
    "\n",
    "df_np['overall error rate in %'] = 100.0*((df_np['FP drive predicted to be removed is not removed']+df_np['FN drive expected to work is removed'])/df_np['number of unique drives'])\n",
    "\n",
    "df_np.head()"
   ]
  },
  {
   "cell_type": "code",
   "execution_count": 5,
   "metadata": {},
   "outputs": [
    {
     "data": {
      "image/png": "[encoded data removed]",
      "text/plain": [
       "<Figure size 432x288 with 1 Axes>"
      ]
     },
     "metadata": {
      "needs_background": "light"
     },
     "output_type": "display_data"
    }
   ],
   "source": [
    "plt.plot_date(x=df_np['date'],y=df_np['overall error rate in %'])\n",
    "plt.title('Make no predictions',fontsize=12)\n",
    "plt.xlabel('date',fontsize=12)\n",
    "plt.ylabel('overall error rate [%]',fontsize=12);"
   ]
  },
  {
   "cell_type": "markdown",
   "metadata": {},
   "source": [
    "# random prediction\n",
    "\n",
    "\"in the next three days, this drive will be removed\"\n",
    "* drive could be removed tomorrow (today+1)\n",
    "* drive could be removed today+2\n",
    "* drive could be removed today+3\n",
    "\n",
    "\n",
    "for each day, get list of drives\n",
    "\n",
    "from that list, select `(random_failure_rate)*len(list_of_drives)` to be removed.\n",
    "\n",
    "* TP=0\n",
    "* TN=92.5\n",
    "* FP=4.9\n",
    "* FN=2.57\n",
    "\n",
    "overall error rate = (FP+FN)/total = 7.5\n"
   ]
  },
  {
   "cell_type": "raw",
   "metadata": {},
   "source": [
    "date; time find . | grep csv | while read full_path; do cat $full_path | sed '1d' | cut -d',' -f1-3,5; done > all_drives_no_smart.dat; date"
   ]
  },
  {
   "cell_type": "code",
   "execution_count": 6,
   "metadata": {},
   "outputs": [
    {
     "name": "stdout",
     "output_type": "stream",
     "text": [
      "elapsed: 149.6175844669342 seconds\n"
     ]
    }
   ],
   "source": [
    "start_time=time.time()\n",
    "df_rp = pandas.read_csv('data_synthesized_from_csvs/all_drives_no_smart.dat',header=None,parse_dates=[0])\n",
    "print('elapsed:',time.time()-start_time,'seconds')"
   ]
  },
  {
   "cell_type": "code",
   "execution_count": 7,
   "metadata": {},
   "outputs": [
    {
     "data": {
      "text/plain": [
       "(126827076, 4)"
      ]
     },
     "execution_count": 7,
     "metadata": {},
     "output_type": "execute_result"
    }
   ],
   "source": [
    "df_rp.shape"
   ]
  },
  {
   "cell_type": "code",
   "execution_count": 8,
   "metadata": {},
   "outputs": [
    {
     "data": {
      "text/plain": [
       "0    datetime64[ns]\n",
       "1            object\n",
       "2            object\n",
       "3             int64\n",
       "dtype: object"
      ]
     },
     "execution_count": 8,
     "metadata": {},
     "output_type": "execute_result"
    }
   ],
   "source": [
    "df_rp.dtypes"
   ]
  },
  {
   "cell_type": "code",
   "execution_count": 9,
   "metadata": {},
   "outputs": [
    {
     "name": "stdout",
     "output_type": "stream",
     "text": [
      "elapsed: 0.0011038780212402344 seconds\n"
     ]
    }
   ],
   "source": [
    "start_time=time.time()\n",
    "df_rp.columns=['date','drive serial','drive model','drive removed from service']\n",
    "# the following two steps are unnecessary due to the use of parse_dates\n",
    "#df_rp['date']=df_rp['date in filename'].apply(lambda x: datetime.datetime.strptime(x,'%Y-%m-%d'))\n",
    "#df_rp.drop(['date in filename'], axis=1,inplace=True)\n",
    "print('elapsed:',time.time()-start_time,'seconds')"
   ]
  },
  {
   "cell_type": "code",
   "execution_count": 10,
   "metadata": {},
   "outputs": [],
   "source": [
    "daily_failure_rate=int(10.0/100000.0)"
   ]
  },
  {
   "cell_type": "code",
   "execution_count": 11,
   "metadata": {},
   "outputs": [
    {
     "data": {
      "text/plain": [
       "2089"
      ]
     },
     "execution_count": 11,
     "metadata": {},
     "output_type": "execute_result"
    }
   ],
   "source": [
    "list_of_dates = list(df_rp['date'].unique())\n",
    "list_of_dates.sort()\n",
    "len(list_of_dates)"
   ]
  },
  {
   "cell_type": "code",
   "execution_count": 12,
   "metadata": {},
   "outputs": [
    {
     "data": {
      "text/plain": [
       "5.71937029431896"
      ]
     },
     "execution_count": 12,
     "metadata": {},
     "output_type": "execute_result"
    }
   ],
   "source": [
    "len(list_of_dates)/365.25"
   ]
  },
  {
   "cell_type": "code",
   "execution_count": 13,
   "metadata": {},
   "outputs": [
    {
     "data": {
      "text/html": [
       "<div>\n",
       "<style scoped>\n",
       "    .dataframe tbody tr th:only-of-type {\n",
       "        vertical-align: middle;\n",
       "    }\n",
       "\n",
       "    .dataframe tbody tr th {\n",
       "        vertical-align: top;\n",
       "    }\n",
       "\n",
       "    .dataframe thead th {\n",
       "        text-align: right;\n",
       "    }\n",
       "</style>\n",
       "<table border=\"1\" class=\"dataframe\">\n",
       "  <thead>\n",
       "    <tr style=\"text-align: right;\">\n",
       "      <th></th>\n",
       "      <th>TP drive predicted to be removed is removed</th>\n",
       "      <th>TN drive expected to work continues to work</th>\n",
       "      <th>FP drive predicted to be removed is not removed</th>\n",
       "      <th>FN drive expected to work is removed</th>\n",
       "    </tr>\n",
       "    <tr>\n",
       "      <th>dates</th>\n",
       "      <th></th>\n",
       "      <th></th>\n",
       "      <th></th>\n",
       "      <th></th>\n",
       "    </tr>\n",
       "  </thead>\n",
       "  <tbody>\n",
       "    <tr>\n",
       "      <th>2013-04-10</th>\n",
       "      <td>NaN</td>\n",
       "      <td>NaN</td>\n",
       "      <td>NaN</td>\n",
       "      <td>NaN</td>\n",
       "    </tr>\n",
       "    <tr>\n",
       "      <th>2013-04-11</th>\n",
       "      <td>NaN</td>\n",
       "      <td>NaN</td>\n",
       "      <td>NaN</td>\n",
       "      <td>NaN</td>\n",
       "    </tr>\n",
       "    <tr>\n",
       "      <th>2013-04-12</th>\n",
       "      <td>NaN</td>\n",
       "      <td>NaN</td>\n",
       "      <td>NaN</td>\n",
       "      <td>NaN</td>\n",
       "    </tr>\n",
       "    <tr>\n",
       "      <th>2013-04-13</th>\n",
       "      <td>NaN</td>\n",
       "      <td>NaN</td>\n",
       "      <td>NaN</td>\n",
       "      <td>NaN</td>\n",
       "    </tr>\n",
       "    <tr>\n",
       "      <th>2013-04-14</th>\n",
       "      <td>NaN</td>\n",
       "      <td>NaN</td>\n",
       "      <td>NaN</td>\n",
       "      <td>NaN</td>\n",
       "    </tr>\n",
       "  </tbody>\n",
       "</table>\n",
       "</div>"
      ],
      "text/plain": [
       "            TP drive predicted to be removed is removed  \\\n",
       "dates                                                     \n",
       "2013-04-10                                          NaN   \n",
       "2013-04-11                                          NaN   \n",
       "2013-04-12                                          NaN   \n",
       "2013-04-13                                          NaN   \n",
       "2013-04-14                                          NaN   \n",
       "\n",
       "            TN drive expected to work continues to work  \\\n",
       "dates                                                     \n",
       "2013-04-10                                          NaN   \n",
       "2013-04-11                                          NaN   \n",
       "2013-04-12                                          NaN   \n",
       "2013-04-13                                          NaN   \n",
       "2013-04-14                                          NaN   \n",
       "\n",
       "            FP drive predicted to be removed is not removed  \\\n",
       "dates                                                         \n",
       "2013-04-10                                              NaN   \n",
       "2013-04-11                                              NaN   \n",
       "2013-04-12                                              NaN   \n",
       "2013-04-13                                              NaN   \n",
       "2013-04-14                                              NaN   \n",
       "\n",
       "            FN drive expected to work is removed  \n",
       "dates                                             \n",
       "2013-04-10                                   NaN  \n",
       "2013-04-11                                   NaN  \n",
       "2013-04-12                                   NaN  \n",
       "2013-04-13                                   NaN  \n",
       "2013-04-14                                   NaN  "
      ]
     },
     "execution_count": 13,
     "metadata": {},
     "output_type": "execute_result"
    }
   ],
   "source": [
    "df_rand_by_date = pandas.DataFrame.from_dict({'dates':list_of_dates,\n",
    "                                              'TP drive predicted to be removed is removed':numpy.nan,\n",
    "                                              'TN drive expected to work continues to work':numpy.nan,\n",
    "                                              'FP drive predicted to be removed is not removed':numpy.nan,\n",
    "                                              'FN drive expected to work is removed':numpy.nan,})\n",
    "df_rand_by_date=df_rand_by_date.set_index('dates')\n",
    "df_rand_by_date.head()"
   ]
  },
  {
   "cell_type": "code",
   "execution_count": 14,
   "metadata": {},
   "outputs": [
    {
     "name": "stdout",
     "output_type": "stream",
     "text": [
      "indx= 0\n",
      "window index= 0\n",
      "2013-04-10T00:00:00.000000000\n",
      "end of scan: 2089 indx= 0\n",
      "[]\n"
     ]
    },
    {
     "ename": "IndexError",
     "evalue": "list index out of range",
     "output_type": "error",
     "traceback": [
      "\u001b[0;31m\u001b[0m",
      "\u001b[0;31mIndexError\u001b[0mTraceback (most recent call last)",
      "\u001b[0;32m<ipython-input-14-a008084520c2>\u001b[0m in \u001b[0;36m<module>\u001b[0;34m\u001b[0m\n\u001b[1;32m     18\u001b[0m     \u001b[0mprint\u001b[0m\u001b[0;34m(\u001b[0m\u001b[0mdays\u001b[0m\u001b[0;34m)\u001b[0m\u001b[0;34m\u001b[0m\u001b[0m\n\u001b[1;32m     19\u001b[0m     \u001b[0;31m# \"prediction\" step: select a random set of drives from today that are going to fail in the next N days\u001b[0m\u001b[0;34m\u001b[0m\u001b[0;34m\u001b[0m\u001b[0m\n\u001b[0;32m---> 20\u001b[0;31m     \u001b[0mprint\u001b[0m\u001b[0;34m(\u001b[0m\u001b[0;34m'today:'\u001b[0m\u001b[0;34m,\u001b[0m\u001b[0mdays\u001b[0m\u001b[0;34m[\u001b[0m\u001b[0;36m0\u001b[0m\u001b[0;34m]\u001b[0m\u001b[0;34m)\u001b[0m\u001b[0;34m\u001b[0m\u001b[0m\n\u001b[0m\u001b[1;32m     21\u001b[0m     \u001b[0mprint\u001b[0m\u001b[0;34m(\u001b[0m\u001b[0mdf_rp\u001b[0m\u001b[0;34m[\u001b[0m\u001b[0mdf_rp\u001b[0m\u001b[0;34m[\u001b[0m\u001b[0;34m'date'\u001b[0m\u001b[0;34m]\u001b[0m\u001b[0;34m==\u001b[0m\u001b[0mdays\u001b[0m\u001b[0;34m[\u001b[0m\u001b[0;36m0\u001b[0m\u001b[0;34m]\u001b[0m\u001b[0;34m]\u001b[0m\u001b[0;34m)\u001b[0m\u001b[0;34m\u001b[0m\u001b[0m\n\u001b[1;32m     22\u001b[0m \u001b[0;34m\u001b[0m\u001b[0m\n",
      "\u001b[0;31mIndexError\u001b[0m: list index out of range"
     ]
    }
   ],
   "source": [
    "start_time=time.time()\n",
    "\n",
    "prediction_window = 3 # \"3\" means given measurements today, look three days in advance\n",
    "days=[]\n",
    "failed_drives={}\n",
    "for indx in range(len(list_of_dates)-prediction_window):\n",
    "    print('indx=',indx)\n",
    "    # create list of days for this window\n",
    "    for window_indx in range(prediction_window+1):\n",
    "        print('window index=',window_indx)\n",
    "        # 0 = today; 1 = tomorrow, 2 = day-after-tomorrow, etc\n",
    "        try:\n",
    "            print(list_of_dates[indx+window_indx])\n",
    "            days[window_indx] = list_of_dates[indx+window_indx]\n",
    "        except IndexError:\n",
    "            print('end of scan:',len(list_of_dates),'indx=',indx)\n",
    "            break\n",
    "    print(days)\n",
    "    # \"prediction\" step: select a random set of drives from today that are going to fail in the next N days\n",
    "    print('today:',days[0])\n",
    "    print(df_rp[df_rp['date']==days[0]])\n",
    "    \n",
    "    drives_predicted_to_fail = set(df_rp[df_rp['date']==days[0]].sample(n=daily_failure_rate)['drive serial'])\n",
    "\n",
    "    # which drives actually failed the next day?\n",
    "    failed_drives=[]\n",
    "    for next_days_indx in range(1,prediction_window+1):\n",
    "        for serl in list(df_rp[df_rp['date']==days[next_days_indx] & df_rp['failure']==1]['drive serial']):\n",
    "            failed_drives.append(serl)\n",
    "    failed_drives = set(failed_drives)\n",
    "    \n",
    "    df_rand_by_date.at[days[0],'TP drive predicted to be removed is removed']=len(drives_predicted_to_fail.intersection(failed_drives))\n",
    "    df_rand_by_date.at[days[0],'TN drive expected to work continues to work']=0\n",
    "    df_rand_by_date.at[days[0],'FP drive predicted to be removed is not removed']=0\n",
    "    df_rand_by_date.at[days[0],'FN drive expected to work is removed']=0\n",
    "\n",
    "print('elapsed:',time.time()-start_time,'seconds')"
   ]
  },
  {
   "cell_type": "code",
   "execution_count": null,
   "metadata": {},
   "outputs": [],
   "source": [
    "list_of_dates[0]"
   ]
  },
  {
   "cell_type": "markdown",
   "metadata": {},
   "source": [
    "# simple heuristic: measure exceeds threshold \n",
    "\n",
    "threshold_for_raw5=1000\n",
    "\n",
    "prediction_window_in_days=3\n",
    "\n",
    "for each drive, if raw5>1000, then predict that in the next 3 days the drive will fail\n",
    "\n",
    "tp_drive_predicted_to_be_removed_is_removed=0\n",
    "tn_drive_expected_to_work_continues_to_work=0\n",
    "fp_drive_predicted_to_be_removed_is_not_removed=0\n",
    "fn_drive_expected_to_work_is_removed=0\n",
    "\n",
    "\n",
    "* TP=0.13\n",
    "* TN=97.3\n",
    "* FP=0.039\n",
    "* FN=2.49\n",
    "\n",
    "overall error rate = 2.5\n"
   ]
  },
  {
   "cell_type": "raw",
   "metadata": {},
   "source": [
    "date; time head -n 10000000 all_drives_no_smart.log | sed '/^date,.*/d' | cut -d',' -f1 | sort | uniq ; date\n",
    "13 seconds\n",
    "\n",
    "date; time cat all_drives_no_smart.log | grep 2018-06-29 --count; date\n",
    "24 seconds\n"
   ]
  },
  {
   "cell_type": "code",
   "execution_count": null,
   "metadata": {},
   "outputs": [],
   "source": [
    "\n",
    "tp_drive_predicted_to_be_removed_is_removed=0\n",
    "tn_drive_expected_to_work_continues_to_work=0\n",
    "fp_drive_predicted_to_be_removed_is_not_removed=0\n",
    "fn_drive_expected_to_work_is_removed=0"
   ]
  },
  {
   "cell_type": "code",
   "execution_count": null,
   "metadata": {},
   "outputs": [],
   "source": []
  }
 ],
 "metadata": {
  "kernelspec": {
   "display_name": "Python 3",
   "language": "python",
   "name": "python3"
  },
  "language_info": {
   "codemirror_mode": {
    "name": "ipython",
    "version": 3
   },
   "file_extension": ".py",
   "mimetype": "text/x-python",
   "name": "python",
   "nbconvert_exporter": "python",
   "pygments_lexer": "ipython3",
   "version": "3.6.7"
  }
 },
 "nbformat": 4,
 "nbformat_minor": 2
}
